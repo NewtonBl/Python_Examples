{
 "cells": [
  {
   "cell_type": "markdown",
   "id": "3f6253fc-c9ae-44be-a2fe-b15f67fc4970",
   "metadata": {},
   "source": [
    "### Example set 1:\n",
    "---\n",
    "An simple example of:\n",
    "* Getting input from a user.\n",
    "* Doing something with that input.\n",
    "* Using conditional statements to do something based on the inputs given."
   ]
  },
  {
   "cell_type": "code",
   "execution_count": null,
   "id": "5011da9d-f988-4ed2-b57b-5b228aeb663e",
   "metadata": {
    "tags": []
   },
   "outputs": [],
   "source": [
    "x = int(input('Enter a number: '))\n",
    "y = int(input('Enter a second number: '))\n",
    "\n",
    "print(f'''The first number that you entered was {x}.\n",
    "The second number that you entered was {y}.''')\n",
    "\n",
    "if(x < y):\n",
    "    print(f'The number {x} is less than {y}.')\n",
    "elif(x == y):\n",
    "    print(f'The number {x} is equal to {y}.')\n",
    "else:\n",
    "    print(f'The number {x} is greater than {y}.')"
   ]
  },
  {
   "cell_type": "markdown",
   "id": "ca6317c1-0c24-4bf4-af08-be84a673ba6e",
   "metadata": {},
   "source": [
    "### Example set 2:\n",
    "---\n",
    "Performing the same algorithm stated above, but loop until a user is ready to stop."
   ]
  },
  {
   "cell_type": "code",
   "execution_count": null,
   "id": "5f16f0e2-a5cd-4fb7-ab9f-79cbb547bfc8",
   "metadata": {
    "tags": []
   },
   "outputs": [],
   "source": [
    "cont = True\n",
    "q = 'y'\n",
    "\n",
    "while(cont == True):\n",
    "    x = float(input('Enter a number: '))\n",
    "    y = float(input('Enter a second number: '))\n",
    "    print(f'''The first number that you entered was {x}.\\nThe second number that you entered was {y}.''')\n",
    "    \n",
    "    \n",
    "    if(x < y):\n",
    "        print(f'The number {x} is less than {y}.')\n",
    "    elif(x == y):\n",
    "        print(f'The number {x} is equal to {y}.')\n",
    "    else:\n",
    "        print(f'The number {x} is greater than {y}.')\n",
    "       \n",
    "    \n",
    "    z = 1\n",
    "    while(z == 1):\n",
    "        q = str.lower(input('Would you like to run this program again? (Type y for yes and n for no): '))\n",
    "        if(q == 'y'):\n",
    "            cont = True\n",
    "            z = 0\n",
    "        elif(q == 'n'):\n",
    "            cont = False\n",
    "            z = 0\n",
    "            print('The program has terminated. Thanks for stopping by!')\n",
    "        else:\n",
    "            print('''I'm sorry, that was not a valid response, please try again.''')\n"
   ]
  },
  {
   "cell_type": "markdown",
   "id": "5c3fda9d-0083-45b8-a8ce-16af9e1a5cbd",
   "metadata": {},
   "source": [
    "### Example set 3:\n",
    "---\n",
    "Another version below that utilizes <b>break</b> and <b>continue</b> statements instead of the \"z\" flag."
   ]
  },
  {
   "cell_type": "code",
   "execution_count": null,
   "id": "7a3369ba-8861-4555-89cf-3c72f84e9c57",
   "metadata": {
    "tags": []
   },
   "outputs": [],
   "source": [
    "cont = True\n",
    "q = 'y'\n",
    "\n",
    "while(cont == True):\n",
    "    x = float(input('Enter a number: '))\n",
    "    y = float(input('Enter a second number: '))\n",
    "    print(f'''The first number that you entered was {x}.\\nThe second number that you entered was {y}.''')\n",
    "    \n",
    "    \n",
    "    if(x < y):\n",
    "        print(f'The number {x} is less than {y}.')\n",
    "    elif(x == y):\n",
    "        print(f'The number {x} is equal to {y}.')\n",
    "    else:\n",
    "        print(f'The number {x} is greater than {y}.')\n",
    "       \n",
    "    \n",
    "    while(True):\n",
    "        q = str.lower(input('Would you like to run this program again? (Type y for yes and n for no): '))\n",
    "        if(q == 'y'):\n",
    "            cont = True\n",
    "            break\n",
    "        elif(q == 'n'):\n",
    "            cont = False\n",
    "            print('The program has terminated. Thanks for stopping by!')\n",
    "            break\n",
    "        else:\n",
    "            print('''I'm sorry, that was not a valid response, please try again.''')\n",
    "            continue\n"
   ]
  },
  {
   "cell_type": "markdown",
   "id": "1d9327c2-84d0-4038-9f03-eb760398eba8",
   "metadata": {},
   "source": [
    "### Example set 4:\n",
    "---\n",
    "Using the <b>and</b> operator in conditional statements."
   ]
  },
  {
   "cell_type": "code",
   "execution_count": 11,
   "id": "64c5222c-3c6d-43db-8fa2-98c2f64ce864",
   "metadata": {
    "tags": []
   },
   "outputs": [
    {
     "name": "stdin",
     "output_type": "stream",
     "text": [
      "Enter your age:  31\n",
      "What is your gender? (type male or female):  male\n"
     ]
    },
    {
     "name": "stdout",
     "output_type": "stream",
     "text": [
      "You are a young man.\n"
     ]
    }
   ],
   "source": [
    "age = int(input('Enter your age: '))\n",
    "gender = str.lower(input('What is your gender? (type male or female): '))\n",
    "\n",
    "if age < 35 and gender == 'male':\n",
    "    print('You are a young man.')\n",
    "elif age >= 35 and age < 60 and gender == 'male':\n",
    "    print('You are a middle aged man.')\n",
    "elif age >= 60 and gender == 'male':\n",
    "    print('You are an old man.')\n",
    "if age < 35 and gender == 'female':\n",
    "    print('You are a young woman.')\n",
    "elif age >= 35 and age < 60 and gender == 'female':\n",
    "    print('You are a middle aged woman.')\n",
    "elif age >= 60 and gender == 'female':\n",
    "    print('You are an old woman.')"
   ]
  },
  {
   "cell_type": "markdown",
   "id": "113d0bfb-7b3c-4352-b0d7-8bb71640c68c",
   "metadata": {},
   "source": [
    "### Example set 5:\n",
    "---\n",
    "An example of using a <b>for</b> loop and <b>range</b> function."
   ]
  },
  {
   "cell_type": "code",
   "execution_count": 4,
   "id": "0226e2b4-c577-4511-903e-181db9c3257e",
   "metadata": {
    "tags": []
   },
   "outputs": [
    {
     "name": "stdout",
     "output_type": "stream",
     "text": [
      "Provide two integers and this script will provide the sum of numbers in the range\n"
     ]
    },
    {
     "name": "stdin",
     "output_type": "stream",
     "text": [
      "Provide the first integer:  -10\n",
      "Provide the second number:  5\n"
     ]
    },
    {
     "name": "stdout",
     "output_type": "stream",
     "text": [
      "The sum of the numbers in the range provided equals: -40\n"
     ]
    }
   ],
   "source": [
    "total = 0\n",
    "print('Provide two integers and this script will provide the sum of numbers in the range')\n",
    "start = int(input('Provide the first integer: '))\n",
    "end = 1 + int(input('Provide the second number: '))\n",
    "\n",
    "for number in range(start,end):\n",
    "    total += number\n",
    "print(f'The sum of the numbers in the range provided equals: {total}')"
   ]
  },
  {
   "cell_type": "markdown",
   "id": "37f38a8d-4ceb-4c88-801f-13baff5dbaa3",
   "metadata": {},
   "source": [
    "### Example set 6:\n",
    "---\n",
    "Some list, sorting, and meaures of central tendancy."
   ]
  },
  {
   "cell_type": "code",
   "execution_count": 22,
   "id": "596b69e8-e602-4616-a620-1c60a62c4f11",
   "metadata": {
    "tags": []
   },
   "outputs": [
    {
     "name": "stdout",
     "output_type": "stream",
     "text": [
      "The unsorted list:\n",
      "[12, 67, 23, 83, 1, 42, 39, 42, 97]\n",
      "\n",
      "The sorted list:\n",
      "[1, 12, 23, 39, 42, 42, 67, 83, 97]\n",
      "\n",
      "The (rounded) mean: 45.11\n",
      "\n",
      "The median: 42\n"
     ]
    }
   ],
   "source": [
    "import statistics as stats\n",
    "\n",
    "list_a = [12, 67, 23, 83, 1, 42, 39, 42, 97]\n",
    "print(f'The unsorted list:\\n{list_a}\\n')\n",
    "\n",
    "list_b = sorted(list_a)\n",
    "print(f'The sorted list:\\n{list_b}\\n')\n",
    "\n",
    "mean_a = round(stats.mean(list_a), 2)\n",
    "print(f'The (rounded) mean: {mean_a}\\n')\n",
    "\n",
    "median_a = stats.median(list_a)\n",
    "print(f'The median: {median_a}')"
   ]
  }
 ],
 "metadata": {
  "kernelspec": {
   "display_name": "Python 3 (ipykernel)",
   "language": "python",
   "name": "python3"
  },
  "language_info": {
   "codemirror_mode": {
    "name": "ipython",
    "version": 3
   },
   "file_extension": ".py",
   "mimetype": "text/x-python",
   "name": "python",
   "nbconvert_exporter": "python",
   "pygments_lexer": "ipython3",
   "version": "3.11.5"
  }
 },
 "nbformat": 4,
 "nbformat_minor": 5
}
