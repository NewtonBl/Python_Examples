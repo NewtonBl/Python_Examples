{
 "cells": [
  {
   "cell_type": "markdown",
   "id": "3f6253fc-c9ae-44be-a2fe-b15f67fc4970",
   "metadata": {},
   "source": [
    "### Example set 1: Inputs and Basic If Statements\n",
    "---\n",
    "An simple example of:\n",
    "* Getting input from a user.\n",
    "* Doing something with that input.\n",
    "* Using conditional statements to do something based on the inputs given."
   ]
  },
  {
   "cell_type": "code",
   "execution_count": null,
   "id": "5011da9d-f988-4ed2-b57b-5b228aeb663e",
   "metadata": {
    "tags": []
   },
   "outputs": [],
   "source": [
    "x = int(input('Enter a number: '))\n",
    "y = int(input('Enter a second number: '))\n",
    "\n",
    "print(f'''The first number that you entered was {x}.\n",
    "The second number that you entered was {y}.''')\n",
    "\n",
    "if(x < y):\n",
    "    print(f'The number {x} is less than {y}.')\n",
    "elif(x == y):\n",
    "    print(f'The number {x} is equal to {y}.')\n",
    "else:\n",
    "    print(f'The number {x} is greater than {y}.')"
   ]
  },
  {
   "cell_type": "markdown",
   "id": "ca6317c1-0c24-4bf4-af08-be84a673ba6e",
   "metadata": {},
   "source": [
    "### Example set 2: Looping basics\n",
    "---\n",
    "Performing the same algorithm stated above, but loop until a user is ready to stop."
   ]
  },
  {
   "cell_type": "code",
   "execution_count": null,
   "id": "5f16f0e2-a5cd-4fb7-ab9f-79cbb547bfc8",
   "metadata": {
    "tags": []
   },
   "outputs": [],
   "source": [
    "cont = True\n",
    "q = 'y'\n",
    "\n",
    "while(cont == True):\n",
    "    x = float(input('Enter a number: '))\n",
    "    y = float(input('Enter a second number: '))\n",
    "    print(f'''The first number that you entered was {x}.\\nThe second number that you entered was {y}.''')\n",
    "    \n",
    "    \n",
    "    if(x < y):\n",
    "        print(f'The number {x} is less than {y}.')\n",
    "    elif(x == y):\n",
    "        print(f'The number {x} is equal to {y}.')\n",
    "    else:\n",
    "        print(f'The number {x} is greater than {y}.')\n",
    "       \n",
    "    \n",
    "    z = 1\n",
    "    while(z == 1):\n",
    "        q = str.lower(input('Would you like to run this program again? (Type y for yes and n for no): '))\n",
    "        if(q == 'y'):\n",
    "            cont = True\n",
    "            z = 0\n",
    "        elif(q == 'n'):\n",
    "            cont = False\n",
    "            z = 0\n",
    "            print('The program has terminated. Thanks for stopping by!')\n",
    "        else:\n",
    "            print('''I'm sorry, that was not a valid response, please try again.''')\n"
   ]
  },
  {
   "cell_type": "markdown",
   "id": "5c3fda9d-0083-45b8-a8ce-16af9e1a5cbd",
   "metadata": {},
   "source": [
    "### Example set 3: Break and Continue\n",
    "---\n",
    "Another version below that utilizes <b>break</b> and <b>continue</b> statements instead of the \"z\" flag."
   ]
  },
  {
   "cell_type": "code",
   "execution_count": null,
   "id": "7a3369ba-8861-4555-89cf-3c72f84e9c57",
   "metadata": {
    "tags": []
   },
   "outputs": [],
   "source": [
    "cont = True\n",
    "q = 'y'\n",
    "\n",
    "while(cont == True):\n",
    "    x = float(input('Enter a number: '))\n",
    "    y = float(input('Enter a second number: '))\n",
    "    print(f'''The first number that you entered was {x}.\\nThe second number that you entered was {y}.''')\n",
    "    \n",
    "    \n",
    "    if(x < y):\n",
    "        print(f'The number {x} is less than {y}.')\n",
    "    elif(x == y):\n",
    "        print(f'The number {x} is equal to {y}.')\n",
    "    else:\n",
    "        print(f'The number {x} is greater than {y}.')\n",
    "       \n",
    "    \n",
    "    while(True):\n",
    "        q = str.lower(input('Would you like to run this program again? (Type y for yes and n for no): '))\n",
    "        if(q == 'y'):\n",
    "            cont = True\n",
    "            break\n",
    "        elif(q == 'n'):\n",
    "            cont = False\n",
    "            print('The program has terminated. Thanks for stopping by!')\n",
    "            break\n",
    "        else:\n",
    "            print('''I'm sorry, that was not a valid response, please try again.''')\n",
    "            continue\n"
   ]
  },
  {
   "cell_type": "markdown",
   "id": "1d9327c2-84d0-4038-9f03-eb760398eba8",
   "metadata": {},
   "source": [
    "### Example set 4: And & (Or)\n",
    "---\n",
    "Using the <b>and</b> operator in conditional statements. The <b>or</b> operator can be used in much the same way."
   ]
  },
  {
   "cell_type": "code",
   "execution_count": null,
   "id": "64c5222c-3c6d-43db-8fa2-98c2f64ce864",
   "metadata": {
    "tags": []
   },
   "outputs": [],
   "source": [
    "age = int(input('Enter your age: '))\n",
    "gender = str.lower(input('What is your gender? (type male or female): '))\n",
    "\n",
    "if age < 35 and gender == 'male':\n",
    "    print('You are a young man.')\n",
    "elif age >= 35 and age < 60 and gender == 'male':\n",
    "    print('You are a middle aged man.')\n",
    "elif age >= 60 and gender == 'male':\n",
    "    print('You are an old man.')\n",
    "if age < 35 and gender == 'female':\n",
    "    print('You are a young woman.')\n",
    "elif age >= 35 and age < 60 and gender == 'female':\n",
    "    print('You are a middle aged woman.')\n",
    "elif age >= 60 and gender == 'female':\n",
    "    print('You are an old woman.')"
   ]
  },
  {
   "cell_type": "markdown",
   "id": "113d0bfb-7b3c-4352-b0d7-8bb71640c68c",
   "metadata": {},
   "source": [
    "### Example set 5: For Loop and Range\n",
    "---\n",
    "An example of using a <b>for</b> loop and <b>range</b> function."
   ]
  },
  {
   "cell_type": "code",
   "execution_count": null,
   "id": "0226e2b4-c577-4511-903e-181db9c3257e",
   "metadata": {
    "tags": []
   },
   "outputs": [],
   "source": [
    "total = 0\n",
    "print('Provide two integers and this script will provide the sum of numbers in the range')\n",
    "start = int(input('Provide the first integer: '))\n",
    "end = 1 + int(input('Provide the second number: '))\n",
    "\n",
    "for number in range(start,end):\n",
    "    total += number\n",
    "print(f'The sum of the numbers in the range provided equals: {total}')"
   ]
  },
  {
   "cell_type": "markdown",
   "id": "37f38a8d-4ceb-4c88-801f-13baff5dbaa3",
   "metadata": {},
   "source": [
    "### Example set 6: Lists\n",
    "---\n",
    "Some lists, sorting, min and max, and measures of central tendancy."
   ]
  },
  {
   "cell_type": "code",
   "execution_count": null,
   "id": "e5414bca-08fb-4759-a425-5f180a0335ef",
   "metadata": {
    "tags": []
   },
   "outputs": [],
   "source": [
    "import statistics as stats\n",
    "\n",
    "list_a = [12, 67, 23, 83, 1, 42, 39, 42, 97, 23, 84, 92, 46, 72, 92, 23]\n",
    "print(f'The unsorted list:\\n{list_a}\\n')\n",
    "\n",
    "# Sorting\n",
    "list_b = sorted(list_a)\n",
    "print(f'The sorted list:\\n{list_b}\\n')\n",
    "\n",
    "# Descending order\n",
    "list_c = sorted(list_a, reverse = True)\n",
    "print(f'The list sorted in descending order: \\n{list_c}\\n')\n",
    "\n",
    "# Min and Max\n",
    "min_a = min(list_a)\n",
    "max_a = max(list_a)\n",
    "print(f'The minimum value is {min_a}.\\nThe maximum value is {max_a}.\\n')\n",
    "\n",
    "# Mean\n",
    "mean_a = round(stats.mean(list_a), 2)\n",
    "print(f'The (rounded) mean: {mean_a}\\n')\n",
    "\n",
    "# Median\n",
    "median_a = stats.median(list_a)\n",
    "print(f'The median: {median_a}\\n')\n",
    "\n",
    "# Mode\n",
    "mode_a = stats.mode(list_a)\n",
    "print(f'The mode: {mode_a}')"
   ]
  },
  {
   "cell_type": "markdown",
   "id": "74356d23-87f3-48cd-8c31-932605bdbd9a",
   "metadata": {},
   "source": [
    "### Example set 7: Appending and Lists\n",
    "---\n",
    "<b>Appending</b> to a generate a list and using some <i><u>statistics</u></i> and <i><u>numpy</u></i> functions on the list. This also includes basic <b>importing</b>."
   ]
  },
  {
   "cell_type": "code",
   "execution_count": null,
   "id": "0f806ec9-e1d4-49a0-99d6-1dd6792e6621",
   "metadata": {
    "tags": []
   },
   "outputs": [],
   "source": [
    "import statistics as stats\n",
    "import numpy\n",
    "\n",
    "list_g = []\n",
    "\n",
    "j = int(input('How many integers would you like to enter? '))\n",
    "\n",
    "print(f'Enter {j} integers')\n",
    "\n",
    "for i in range(j):\n",
    "    list_g.append(int(input(f'enter integer {i+1}: ')))\n",
    "print(f'''\n",
    "Sum: {sum(list_g)}\n",
    "Average: {stats.mean(list_g)}\n",
    "Product: {numpy.prod(list_g)}\n",
    "Minimum: {min(list_g)}\n",
    "Maximum: {max(list_g)}\n",
    "''')"
   ]
  },
  {
   "cell_type": "markdown",
   "id": "054b96bf-a223-45bd-8140-51d32ff24d95",
   "metadata": {},
   "source": [
    "### Example set 8: Decimals\n",
    "---\n",
    "<b>Decimals</b> for more precise and accurate calculations."
   ]
  },
  {
   "cell_type": "code",
   "execution_count": null,
   "id": "76cad7f5-07b2-477e-b56f-3739537192ec",
   "metadata": {
    "tags": []
   },
   "outputs": [],
   "source": [
    "from decimal import Decimal\n",
    "\n",
    "n_a = 112.31\n",
    "f_a = 2.40\n",
    "f_b = 3.0\n",
    "m_a = f_a * f_b\n",
    "\n",
    "print(f'Float {f_a} multiplied by {f_b} (according to floats): {m_a}\\nNumber 112.31: {n_a}\\n')\n",
    "print(f'Extending the number of decimals shown: {m_a:.48f}\\nNumber 1: {n_a:.20f}\\n')\n",
    "\n",
    "print('These values are not as precise or accurate as they could be.\\nIt is better in these circumstances to use the Decimal function.\\n')\n",
    "\n",
    "d_n_a = Decimal('112.31')\n",
    "d_f_a = Decimal('2.40')\n",
    "d_f_b = Decimal('3.0')\n",
    "d_m_a = d_f_a * d_f_b\n",
    "\n",
    "print(f'Decimals {d_f_a} multiplied by {d_f_b}: {d_m_a}\\nNumber 112.31: {d_n_a}\\n')\n",
    "print(f'Extending the number of decimals shown: {d_m_a:.75f}\\nNumber 1: {d_n_a:.20f}\\n')"
   ]
  },
  {
   "cell_type": "markdown",
   "id": "1844a780-85e2-4edd-8d4f-cd7000c29040",
   "metadata": {},
   "source": [
    "### Example set 9: Functions\n",
    "---\n",
    "<b>Function</b> definition and basics."
   ]
  },
  {
   "cell_type": "code",
   "execution_count": null,
   "id": "14456ff5-c990-4b3f-8964-089dd2c51339",
   "metadata": {
    "tags": []
   },
   "outputs": [],
   "source": [
    "# Defining a function that prints results (no return).\n",
    "def div_rem(x,y):\n",
    "    \"\"\"Print the result of integer division with remainder\"\"\"\n",
    "    div = x // y\n",
    "    rem = x % y\n",
    "    print(f'{x} divided by {y} is: {div} with a remainder of {rem}')"
   ]
  },
  {
   "cell_type": "code",
   "execution_count": null,
   "id": "6fb8c851-1d50-446d-a4b6-30552f041d96",
   "metadata": {
    "tags": []
   },
   "outputs": [],
   "source": [
    "# Utilizing the 'print only' function.\n",
    "div_rem(7,3)\n",
    "div_rem(38406826790,17)"
   ]
  },
  {
   "cell_type": "code",
   "execution_count": null,
   "id": "99a05dba-34fa-4670-9cae-bcfac7a16f2a",
   "metadata": {
    "tags": []
   },
   "outputs": [],
   "source": [
    "# Defining a function that returns a value.\n",
    "def int_div(x, y):\n",
    "    \"\"\"Return the value of integer division between two numbers.\"\"\"\n",
    "    return x // y"
   ]
  },
  {
   "cell_type": "code",
   "execution_count": null,
   "id": "e3235507-bf95-4b8b-90fd-2a1aed2bf723",
   "metadata": {
    "tags": []
   },
   "outputs": [],
   "source": [
    "# Using the 'return' function.\n",
    "int_div(8,3)"
   ]
  },
  {
   "cell_type": "code",
   "execution_count": null,
   "id": "7ed10686-fb6f-4c76-a793-fa7ccc8c92e0",
   "metadata": {
    "tags": []
   },
   "outputs": [],
   "source": [
    "# Value returned can be assigned to a variable or used in further operations.\n",
    "print('Enter two integers to perform whole number integer division.')\n",
    "a = int(input('Enter the number you want to divide: '))\n",
    "b = int(input('Enter the number you want to divide by: '))\n",
    "\n",
    "abc = int_div(a, b)\n",
    "print(f'The number of times that {b} can go into {a} is: {abc}')"
   ]
  }
 ],
 "metadata": {
  "kernelspec": {
   "display_name": "Python 3 (ipykernel)",
   "language": "python",
   "name": "python3"
  },
  "language_info": {
   "codemirror_mode": {
    "name": "ipython",
    "version": 3
   },
   "file_extension": ".py",
   "mimetype": "text/x-python",
   "name": "python",
   "nbconvert_exporter": "python",
   "pygments_lexer": "ipython3",
   "version": "3.11.5"
  }
 },
 "nbformat": 4,
 "nbformat_minor": 5
}
